{
 "cells": [
  {
   "cell_type": "code",
   "execution_count": 1,
   "metadata": {},
   "outputs": [],
   "source": [
    "import matplotlib.pyplot as plt\n",
    "import pandas as pd"
   ]
  },
  {
   "cell_type": "code",
   "execution_count": 2,
   "metadata": {},
   "outputs": [],
   "source": [
    "# Leitura do arquivo CSV\n",
    "file_path = 'PDA_Cursos_Especializacao_Brasil.csv'\n",
    "df = pd.read_csv(file_path)"
   ]
  },
  {
   "cell_type": "code",
   "execution_count": null,
   "metadata": {},
   "outputs": [],
   "source": [
    "df.head()\n"
   ]
  },
  {
   "cell_type": "code",
   "execution_count": 4,
   "metadata": {},
   "outputs": [],
   "source": [
    "plt.style.use('ggplot')"
   ]
  },
  {
   "cell_type": "code",
   "execution_count": 5,
   "metadata": {},
   "outputs": [],
   "source": [
    "# Agrupar por UF e SITUACAO\n",
    "df_grouped = df.groupby(['UF', 'SITUACAO']).size().unstack(fill_value=0)"
   ]
  },
  {
   "cell_type": "code",
   "execution_count": 6,
   "metadata": {},
   "outputs": [],
   "source": [
    "# Gráfico 1: Top 10 Cursos de Especialização mais Frequentes\n",
    "plt.figure(figsize=(10, 6))\n",
    "df['NOME_ESPECIALIZACAO'].value_counts().head(10).plot(kind='bar', color='skyblue')\n",
    "plt.title('Top 10 Cursos de Especialização mais Frequentes', fontsize=14)\n",
    "plt.xlabel('Nome do Curso', fontsize=12)\n",
    "plt.ylabel('Frequência', fontsize=12)\n",
    "plt.xticks(rotation=90)\n",
    "plt.tight_layout()\n",
    "plt.savefig('grafico_1.png')\n",
    "plt.close()"
   ]
  },
  {
   "cell_type": "code",
   "execution_count": 7,
   "metadata": {},
   "outputs": [],
   "source": [
    "# Gráfico 2: Situação das Vagas por Estado (UF)\n",
    "df_grouped = df.groupby(['UF', 'SITUACAO']).size().unstack(fill_value=0)\n",
    "df_grouped.plot(kind='bar', stacked=True, figsize=(12, 8))\n",
    "plt.title('Situação das Vagas por Estado (UF)')\n",
    "plt.xlabel('Estado (UF)')\n",
    "plt.ylabel('Quantidade de Vagas')\n",
    "plt.xticks(rotation=90)\n",
    "plt.tight_layout()\n",
    "plt.savefig('grafico_2.png')\n",
    "plt.close()"
   ]
  },
  {
   "cell_type": "code",
   "execution_count": 8,
   "metadata": {},
   "outputs": [],
   "source": [
    "# Gráfico 3: Situação Nacional\n",
    "situacao_nacional = df['SITUACAO'].value_counts()\n",
    "plt.figure(figsize=(7, 7))\n",
    "plt.pie(situacao_nacional, labels=situacao_nacional.index, autopct='%1.1f%%', startangle=90)\n",
    "plt.title('Proporção de Vagas por Situação no Brasil')\n",
    "plt.savefig('grafico_3.png')\n",
    "plt.close()"
   ]
  },
  {
   "cell_type": "code",
   "execution_count": 9,
   "metadata": {},
   "outputs": [],
   "source": [
    "# Gráfico 4: Distribuição das Modalidades de Ensino\n",
    "plt.figure(figsize=(8, 8))\n",
    "df['MODALIDADE'].value_counts().plot(kind='pie', autopct='%1.1f%%', startangle=90, colors=['#66b3ff','#99ff99','#ffcc99'])\n",
    "plt.title('Distribuição das Modalidades de Ensino', fontsize=14)\n",
    "plt.ylabel('')\n",
    "plt.tight_layout()\n",
    "plt.savefig('grafico_5.png')\n",
    "plt.close()"
   ]
  },
  {
   "cell_type": "code",
   "execution_count": 10,
   "metadata": {},
   "outputs": [],
   "source": [
    "\n",
    "# Gráfico 5: Top 10 Municípios com Mais Cursos\n",
    "plt.figure(figsize=(10, 6))\n",
    "df['MUNICIPIO'].value_counts().head(10).plot(kind='bar', color='lightblue')\n",
    "plt.title('Top 10 Municípios com Mais Cursos', fontsize=14)\n",
    "plt.xlabel('Município', fontsize=12)\n",
    "plt.ylabel('Frequência', fontsize=12)\n",
    "plt.xticks(rotation=90)\n",
    "plt.tight_layout()\n",
    "plt.savefig('grafico_6.png')\n",
    "plt.close()"
   ]
  },
  {
   "cell_type": "code",
   "execution_count": 11,
   "metadata": {},
   "outputs": [],
   "source": [
    "# Gráfico 6: Distribuição de Cursos por Região\n",
    "plt.figure(figsize=(8, 8))\n",
    "df['REGIAO'].value_counts().plot(kind='pie', autopct='%1.1f%%', startangle=90, colors=['#ff9999','#66b3ff','#99ff99','#ffcc99','#c2c2f0'])\n",
    "plt.title('Distribuição de Cursos por Região', fontsize=14)\n",
    "plt.ylabel('')\n",
    "plt.tight_layout()\n",
    "plt.savefig('grafico_7.png')\n",
    "plt.close()"
   ]
  }
 ],
 "metadata": {
  "kernelspec": {
   "display_name": "Python 3",
   "language": "python",
   "name": "python3"
  },
  "language_info": {
   "codemirror_mode": {
    "name": "ipython",
    "version": 3
   },
   "file_extension": ".py",
   "mimetype": "text/x-python",
   "name": "python",
   "nbconvert_exporter": "python",
   "pygments_lexer": "ipython3",
   "version": "3.11.5"
  }
 },
 "nbformat": 4,
 "nbformat_minor": 2
}
